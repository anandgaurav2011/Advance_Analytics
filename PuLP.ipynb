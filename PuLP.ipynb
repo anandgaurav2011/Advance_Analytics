{
 "cells": [
  {
   "cell_type": "code",
   "execution_count": 1,
   "id": "35a224f2",
   "metadata": {},
   "outputs": [],
   "source": [
    "#pip install pulp"
   ]
  },
  {
   "cell_type": "code",
   "execution_count": 2,
   "id": "3599a6fa",
   "metadata": {},
   "outputs": [],
   "source": [
    "import pulp as p"
   ]
  },
  {
   "cell_type": "markdown",
   "id": "1d92809e",
   "metadata": {},
   "source": [
    "## Problem 1 \n",
    "### Maximization"
   ]
  },
  {
   "cell_type": "code",
   "execution_count": 3,
   "id": "eff6249f",
   "metadata": {},
   "outputs": [],
   "source": [
    "#Lp_prob = p.LpProblem(\"Problem1\",p.LpMaximize)"
   ]
  },
  {
   "cell_type": "markdown",
   "id": "2faba0b4",
   "metadata": {},
   "source": [
    "### Decision Variables"
   ]
  },
  {
   "cell_type": "code",
   "execution_count": 4,
   "id": "76365865",
   "metadata": {},
   "outputs": [],
   "source": [
    "#  x1 = p.LpVariable(\"x1\",lowBound = 0) # create a variable x >= o\n",
    "#  x2 = p.LpVariable(\"x2\",lowBound = 0) # create a variable x >= o"
   ]
  },
  {
   "cell_type": "markdown",
   "id": "d4bf0a94",
   "metadata": {},
   "source": [
    "### Objective Function"
   ]
  },
  {
   "cell_type": "code",
   "execution_count": 5,
   "id": "e8b012bf",
   "metadata": {},
   "outputs": [],
   "source": [
    "# Lp_prob += 5*x1 + 7*x2"
   ]
  },
  {
   "cell_type": "markdown",
   "id": "1f88e79d",
   "metadata": {},
   "source": [
    "### Constraints"
   ]
  },
  {
   "cell_type": "code",
   "execution_count": 6,
   "id": "00ecaaf9",
   "metadata": {},
   "outputs": [],
   "source": [
    "# Lp_prob += 1*x1 + 0*x2 <= 6\n",
    "# Lp_prob += 2*x1 + 3*x2 <= 19\n",
    "# Lp_prob += 1*x1 + 1*x2 <= 8"
   ]
  },
  {
   "cell_type": "code",
   "execution_count": 7,
   "id": "bd82ba89",
   "metadata": {},
   "outputs": [],
   "source": [
    "# print(Lp_prob)"
   ]
  },
  {
   "cell_type": "markdown",
   "id": "86ca6061",
   "metadata": {},
   "source": [
    "### Solving the LPP"
   ]
  },
  {
   "cell_type": "code",
   "execution_count": 8,
   "id": "89ab760f",
   "metadata": {},
   "outputs": [],
   "source": [
    "# status = Lp_prob.solve()\n",
    "# print(p.LpStatus[status])"
   ]
  },
  {
   "cell_type": "markdown",
   "id": "7c78fc34",
   "metadata": {},
   "source": [
    "### Solution"
   ]
  },
  {
   "cell_type": "code",
   "execution_count": 9,
   "id": "013495fa",
   "metadata": {},
   "outputs": [],
   "source": [
    "# print(\"x1 =\", p.value(x1))\n",
    "# print(\"x2 =\", p.value(x2))\n",
    "# print(\"Objective = \", p.value(Lp_prob.objective))"
   ]
  },
  {
   "cell_type": "markdown",
   "id": "1a2f1373",
   "metadata": {},
   "source": [
    "# Problem 2"
   ]
  },
  {
   "cell_type": "code",
   "execution_count": 10,
   "id": "b804f20b",
   "metadata": {},
   "outputs": [],
   "source": [
    "# Minimization"
   ]
  },
  {
   "cell_type": "code",
   "execution_count": 11,
   "id": "448cd7c8",
   "metadata": {},
   "outputs": [],
   "source": [
    "# Lp_prob = p.LpProblem(\"Breweries\",p.LpMinimize)"
   ]
  },
  {
   "cell_type": "code",
   "execution_count": 12,
   "id": "a6ab1863",
   "metadata": {},
   "outputs": [],
   "source": [
    "# Decision Variables"
   ]
  },
  {
   "cell_type": "code",
   "execution_count": 13,
   "id": "51e6d1fd",
   "metadata": {},
   "outputs": [],
   "source": [
    "#  x1 = p.LpVariable(\"Solan\",upBound = 30) # create a variable x >= o\n",
    "#  x2 = p.LpVariable(\"Mohan Nagar\",upBound = 30) # create a variable x >= o"
   ]
  },
  {
   "cell_type": "code",
   "execution_count": 14,
   "id": "aed2b76a",
   "metadata": {},
   "outputs": [],
   "source": [
    "# Objective Function"
   ]
  },
  {
   "cell_type": "code",
   "execution_count": 15,
   "id": "ff47d19c",
   "metadata": {},
   "outputs": [],
   "source": [
    "# Lp_prob += 600*x1 + 400*x2"
   ]
  },
  {
   "cell_type": "code",
   "execution_count": 16,
   "id": "d82cc4d7",
   "metadata": {},
   "outputs": [],
   "source": [
    "# Constraints"
   ]
  },
  {
   "cell_type": "code",
   "execution_count": 17,
   "id": "d7dee0de",
   "metadata": {},
   "outputs": [],
   "source": [
    "# Lp_prob += 1500*x1 + 1500*x2 >= 20000\n",
    "# Lp_prob += 3000*x1 + 1000*x2 >= 40000\n",
    "# Lp_prob += 2000*x1 + 5000*x2 >= 44000\n",
    "\n",
    "# if upBound is 0 then add this two line\n",
    "#Lp_prob += 1*x1 + 0*x2 <= 30\n",
    "#Lp_prob += 0*x1 + 1*x2 <= 30"
   ]
  },
  {
   "cell_type": "code",
   "execution_count": 18,
   "id": "4a1fd2ae",
   "metadata": {},
   "outputs": [],
   "source": [
    "# print(Lp_prob)"
   ]
  },
  {
   "cell_type": "code",
   "execution_count": 19,
   "id": "a9ab89da",
   "metadata": {},
   "outputs": [],
   "source": [
    "# Solving the LPP"
   ]
  },
  {
   "cell_type": "code",
   "execution_count": 20,
   "id": "a9883bc3",
   "metadata": {},
   "outputs": [],
   "source": [
    "# status = Lp_prob.solve()\n",
    "# print(p.LpStatus[status])"
   ]
  },
  {
   "cell_type": "code",
   "execution_count": 21,
   "id": "1ee51412",
   "metadata": {},
   "outputs": [],
   "source": [
    "# Solution"
   ]
  },
  {
   "cell_type": "code",
   "execution_count": 22,
   "id": "16337d1d",
   "metadata": {},
   "outputs": [],
   "source": [
    "# print(\"x1 =\", p.value(x1))\n",
    "# print(\"x2 =\", p.value(x2))\n",
    "# print(\"Objective = \", p.value(Lp_prob.objective))"
   ]
  },
  {
   "cell_type": "markdown",
   "id": "68a61a7c",
   "metadata": {},
   "source": [
    "# Problem 3"
   ]
  },
  {
   "cell_type": "code",
   "execution_count": 23,
   "id": "5999a524",
   "metadata": {},
   "outputs": [],
   "source": [
    "# Maximization"
   ]
  },
  {
   "cell_type": "code",
   "execution_count": 24,
   "id": "9fd0707c",
   "metadata": {},
   "outputs": [],
   "source": [
    "# Lp_prob = p.LpProblem(\"Manufacturing\",p.LpMaximize)"
   ]
  },
  {
   "cell_type": "code",
   "execution_count": 25,
   "id": "309afb17",
   "metadata": {},
   "outputs": [],
   "source": [
    "# Decision Variables"
   ]
  },
  {
   "cell_type": "code",
   "execution_count": 26,
   "id": "d17384e6",
   "metadata": {},
   "outputs": [],
   "source": [
    "#  x1 = p.LpVariable(\"X1\",lowBound = 0) # create a variable x >= o\n",
    "#  x2 = p.LpVariable(\"X2\",lowBound = 0) # create a variable x >= o"
   ]
  },
  {
   "cell_type": "code",
   "execution_count": 27,
   "id": "8935632b",
   "metadata": {},
   "outputs": [],
   "source": [
    "# Objective Function"
   ]
  },
  {
   "cell_type": "code",
   "execution_count": 28,
   "id": "0782e494",
   "metadata": {},
   "outputs": [],
   "source": [
    "# Lp_prob += 40*x1 + 100*x2"
   ]
  },
  {
   "cell_type": "code",
   "execution_count": 29,
   "id": "bbfee365",
   "metadata": {},
   "outputs": [],
   "source": [
    "# Constraints"
   ]
  },
  {
   "cell_type": "code",
   "execution_count": 30,
   "id": "a55b1623",
   "metadata": {},
   "outputs": [],
   "source": [
    "# Lp_prob += 12*x1 + 6*x2 <= 3000\n",
    "# Lp_prob += 4*x1 + 10*x2 <= 2000\n",
    "# Lp_prob += 2*x1 + 3*x2 <= 900"
   ]
  },
  {
   "cell_type": "code",
   "execution_count": 31,
   "id": "fcaae3f6",
   "metadata": {},
   "outputs": [],
   "source": [
    "# print(Lp_prob)"
   ]
  },
  {
   "cell_type": "code",
   "execution_count": 32,
   "id": "214b1c76",
   "metadata": {},
   "outputs": [],
   "source": [
    "# Solving the LPP"
   ]
  },
  {
   "cell_type": "code",
   "execution_count": 33,
   "id": "3259cfc6",
   "metadata": {},
   "outputs": [],
   "source": [
    "# status = Lp_prob.solve()\n",
    "# print(p.LpStatus[status])"
   ]
  },
  {
   "cell_type": "code",
   "execution_count": 34,
   "id": "db0d2c1f",
   "metadata": {},
   "outputs": [],
   "source": [
    "# Solution"
   ]
  },
  {
   "cell_type": "code",
   "execution_count": 35,
   "id": "6ec7fb03",
   "metadata": {},
   "outputs": [],
   "source": [
    "# print(\"x1 =\", p.value(x1))\n",
    "# print(\"x2 =\", p.value(x2))\n",
    "# print(\"Objective = \", p.value(Lp_prob.objective))"
   ]
  },
  {
   "cell_type": "markdown",
   "id": "da3a62de",
   "metadata": {},
   "source": [
    "# Problem 4"
   ]
  },
  {
   "cell_type": "code",
   "execution_count": 36,
   "id": "250f7277",
   "metadata": {},
   "outputs": [],
   "source": [
    "# Maximization"
   ]
  },
  {
   "cell_type": "code",
   "execution_count": 37,
   "id": "7888acc2",
   "metadata": {},
   "outputs": [],
   "source": [
    "# Lp_prob = p.LpProblem(\"Shampoo\",p.LpMinimize)"
   ]
  },
  {
   "cell_type": "code",
   "execution_count": 38,
   "id": "44f76045",
   "metadata": {},
   "outputs": [],
   "source": [
    "# Decision Variables"
   ]
  },
  {
   "cell_type": "code",
   "execution_count": 39,
   "id": "40645b83",
   "metadata": {},
   "outputs": [],
   "source": [
    "#  x1 = p.LpVariable(\"X1\",lowBound = 0) # create a variable x >= o\n",
    "#  x2 = p.LpVariable(\"X2\",lowBound = 0) # create a variable x >= o"
   ]
  },
  {
   "cell_type": "code",
   "execution_count": 40,
   "id": "2441bcbc",
   "metadata": {},
   "outputs": [],
   "source": [
    "# Objective Function"
   ]
  },
  {
   "cell_type": "code",
   "execution_count": 41,
   "id": "bfb78e2f",
   "metadata": {},
   "outputs": [],
   "source": [
    "# Lp_prob += 700*x1 + 550*x2"
   ]
  },
  {
   "cell_type": "code",
   "execution_count": 42,
   "id": "47f85f5a",
   "metadata": {},
   "outputs": [],
   "source": [
    "# Constraints"
   ]
  },
  {
   "cell_type": "code",
   "execution_count": 43,
   "id": "71f94265",
   "metadata": {},
   "outputs": [],
   "source": [
    "# Lp_prob += 3000*x1 + 1000*x2 >= 24000\n",
    "# Lp_prob += 1000*x1 + 1000*x2 >= 16000\n",
    "# Lp_prob += 2000*x1 + 6000*x2 >= 48000"
   ]
  },
  {
   "cell_type": "code",
   "execution_count": 44,
   "id": "99fd4496",
   "metadata": {},
   "outputs": [],
   "source": [
    "# print(Lp_prob)"
   ]
  },
  {
   "cell_type": "code",
   "execution_count": 45,
   "id": "6b06f655",
   "metadata": {},
   "outputs": [],
   "source": [
    "# Solving the LPP"
   ]
  },
  {
   "cell_type": "code",
   "execution_count": 46,
   "id": "f5cfbfe7",
   "metadata": {},
   "outputs": [],
   "source": [
    "# status = Lp_prob.solve()\n",
    "# print(p.LpStatus[status])"
   ]
  },
  {
   "cell_type": "code",
   "execution_count": 47,
   "id": "ec750fb4",
   "metadata": {},
   "outputs": [],
   "source": [
    "# Solution"
   ]
  },
  {
   "cell_type": "code",
   "execution_count": 48,
   "id": "539a5c05",
   "metadata": {},
   "outputs": [],
   "source": [
    "# print(\"x1 =\", p.value(x1))\n",
    "# print(\"x2 =\", p.value(x2))\n",
    "# print(\"Objective = \", p.value(Lp_prob.objective))"
   ]
  },
  {
   "cell_type": "markdown",
   "id": "a8477d95",
   "metadata": {},
   "source": [
    "# Problem 5"
   ]
  },
  {
   "cell_type": "code",
   "execution_count": 49,
   "id": "ead9de8a",
   "metadata": {},
   "outputs": [],
   "source": [
    "# Maximization"
   ]
  },
  {
   "cell_type": "code",
   "execution_count": 50,
   "id": "c92b5e72",
   "metadata": {},
   "outputs": [],
   "source": [
    "Lp_prob = p.LpProblem(\"Corn_Soyabean\",p.LpMinimize)"
   ]
  },
  {
   "cell_type": "code",
   "execution_count": 51,
   "id": "bd6e621c",
   "metadata": {},
   "outputs": [],
   "source": [
    "# Decision Variables"
   ]
  },
  {
   "cell_type": "code",
   "execution_count": 52,
   "id": "1e465af8",
   "metadata": {},
   "outputs": [],
   "source": [
    " x1 = p.LpVariable(\"X1\",lowBound = 0) # create a variable x >= o\n",
    " x2 = p.LpVariable(\"X2\",lowBound = 0) # create a variable x >= o"
   ]
  },
  {
   "cell_type": "code",
   "execution_count": 53,
   "id": "ecf450b0",
   "metadata": {},
   "outputs": [],
   "source": [
    "# Objective Function"
   ]
  },
  {
   "cell_type": "code",
   "execution_count": 54,
   "id": "2c7fc858",
   "metadata": {},
   "outputs": [],
   "source": [
    "Lp_prob += 0.3*x1 + 0.9*x2"
   ]
  },
  {
   "cell_type": "code",
   "execution_count": 55,
   "id": "bf4d0225",
   "metadata": {},
   "outputs": [],
   "source": [
    "# Constraints"
   ]
  },
  {
   "cell_type": "code",
   "execution_count": 56,
   "id": "efc06145",
   "metadata": {},
   "outputs": [],
   "source": [
    "Lp_prob += 0.09*x1 + 0.6*x2 >= 240\n",
    "Lp_prob += 1*x1 + 1*x2 >= 800\n",
    "Lp_prob += 0.02*x1 + 0.06*x2 <= 40"
   ]
  },
  {
   "cell_type": "code",
   "execution_count": 57,
   "id": "2f8579a2",
   "metadata": {},
   "outputs": [
    {
     "name": "stdout",
     "output_type": "stream",
     "text": [
      "Corn_Soyabean:\n",
      "MINIMIZE\n",
      "0.3*X1 + 0.9*X2 + 0.0\n",
      "SUBJECT TO\n",
      "_C1: 0.09 X1 + 0.6 X2 >= 240\n",
      "\n",
      "_C2: X1 + X2 >= 800\n",
      "\n",
      "_C3: 0.02 X1 + 0.06 X2 <= 40\n",
      "\n",
      "VARIABLES\n",
      "X1 Continuous\n",
      "X2 Continuous\n",
      "\n"
     ]
    }
   ],
   "source": [
    "print(Lp_prob)"
   ]
  },
  {
   "cell_type": "code",
   "execution_count": 58,
   "id": "f74b82c0",
   "metadata": {},
   "outputs": [],
   "source": [
    "# Solving the LPP"
   ]
  },
  {
   "cell_type": "code",
   "execution_count": 59,
   "id": "f6449f1f",
   "metadata": {},
   "outputs": [
    {
     "name": "stdout",
     "output_type": "stream",
     "text": [
      "Optimal\n"
     ]
    }
   ],
   "source": [
    "status = Lp_prob.solve()\n",
    "print(p.LpStatus[status])"
   ]
  },
  {
   "cell_type": "code",
   "execution_count": 60,
   "id": "08b75ff7",
   "metadata": {},
   "outputs": [],
   "source": [
    "# Solution"
   ]
  },
  {
   "cell_type": "code",
   "execution_count": 61,
   "id": "7151b1dc",
   "metadata": {},
   "outputs": [
    {
     "name": "stdout",
     "output_type": "stream",
     "text": [
      "x1 = 470.58824\n",
      "x2 = 329.41176\n",
      "Objective =  437.647056\n"
     ]
    }
   ],
   "source": [
    "print(\"x1 =\", p.value(x1))\n",
    "print(\"x2 =\", p.value(x2))\n",
    "print(\"Objective = \", p.value(Lp_prob.objective))"
   ]
  },
  {
   "cell_type": "code",
   "execution_count": null,
   "id": "f5eba1b9",
   "metadata": {},
   "outputs": [],
   "source": []
  }
 ],
 "metadata": {
  "kernelspec": {
   "display_name": "Python 3 (ipykernel)",
   "language": "python",
   "name": "python3"
  },
  "language_info": {
   "codemirror_mode": {
    "name": "ipython",
    "version": 3
   },
   "file_extension": ".py",
   "mimetype": "text/x-python",
   "name": "python",
   "nbconvert_exporter": "python",
   "pygments_lexer": "ipython3",
   "version": "3.9.13"
  }
 },
 "nbformat": 4,
 "nbformat_minor": 5
}
