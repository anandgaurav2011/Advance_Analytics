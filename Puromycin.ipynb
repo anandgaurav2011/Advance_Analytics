{
 "cells": [
  {
   "cell_type": "code",
   "execution_count": 23,
   "id": "41a61e69",
   "metadata": {},
   "outputs": [],
   "source": [
    "import pandas as pd\n",
    "import numpy as np\n",
    "from scipy import stats\n",
    "from scipy.stats import ttest_1samp\n",
    "from scipy.stats import ttest_rel\n",
    "from scipy.stats import ttest_ind\n",
    "from scipy.stats import bartlett"
   ]
  },
  {
   "cell_type": "code",
   "execution_count": 2,
   "id": "ef9a455f",
   "metadata": {},
   "outputs": [
    {
     "data": {
      "text/html": [
       "<div>\n",
       "<style scoped>\n",
       "    .dataframe tbody tr th:only-of-type {\n",
       "        vertical-align: middle;\n",
       "    }\n",
       "\n",
       "    .dataframe tbody tr th {\n",
       "        vertical-align: top;\n",
       "    }\n",
       "\n",
       "    .dataframe thead th {\n",
       "        text-align: right;\n",
       "    }\n",
       "</style>\n",
       "<table border=\"1\" class=\"dataframe\">\n",
       "  <thead>\n",
       "    <tr style=\"text-align: right;\">\n",
       "      <th></th>\n",
       "      <th>conc</th>\n",
       "      <th>rate</th>\n",
       "      <th>state</th>\n",
       "    </tr>\n",
       "  </thead>\n",
       "  <tbody>\n",
       "    <tr>\n",
       "      <th>0</th>\n",
       "      <td>0.02</td>\n",
       "      <td>76</td>\n",
       "      <td>treated</td>\n",
       "    </tr>\n",
       "    <tr>\n",
       "      <th>1</th>\n",
       "      <td>0.02</td>\n",
       "      <td>47</td>\n",
       "      <td>treated</td>\n",
       "    </tr>\n",
       "    <tr>\n",
       "      <th>2</th>\n",
       "      <td>0.06</td>\n",
       "      <td>97</td>\n",
       "      <td>treated</td>\n",
       "    </tr>\n",
       "    <tr>\n",
       "      <th>3</th>\n",
       "      <td>0.06</td>\n",
       "      <td>107</td>\n",
       "      <td>treated</td>\n",
       "    </tr>\n",
       "    <tr>\n",
       "      <th>4</th>\n",
       "      <td>0.11</td>\n",
       "      <td>123</td>\n",
       "      <td>treated</td>\n",
       "    </tr>\n",
       "  </tbody>\n",
       "</table>\n",
       "</div>"
      ],
      "text/plain": [
       "   conc  rate    state\n",
       "0  0.02    76  treated\n",
       "1  0.02    47  treated\n",
       "2  0.06    97  treated\n",
       "3  0.06   107  treated\n",
       "4  0.11   123  treated"
      ]
     },
     "execution_count": 2,
     "metadata": {},
     "output_type": "execute_result"
    }
   ],
   "source": [
    "pur = pd.read_csv(\"Puromycin.csv\")\n",
    "pur.head()"
   ]
  },
  {
   "cell_type": "code",
   "execution_count": 3,
   "id": "00f02e51",
   "metadata": {},
   "outputs": [
    {
     "data": {
      "text/plain": [
       "(23, 3)"
      ]
     },
     "execution_count": 3,
     "metadata": {},
     "output_type": "execute_result"
    }
   ],
   "source": [
    "pur.shape"
   ]
  },
  {
   "cell_type": "code",
   "execution_count": 4,
   "id": "b268c1d7",
   "metadata": {},
   "outputs": [
    {
     "data": {
      "text/html": [
       "<div>\n",
       "<style scoped>\n",
       "    .dataframe tbody tr th:only-of-type {\n",
       "        vertical-align: middle;\n",
       "    }\n",
       "\n",
       "    .dataframe tbody tr th {\n",
       "        vertical-align: top;\n",
       "    }\n",
       "\n",
       "    .dataframe thead th {\n",
       "        text-align: right;\n",
       "    }\n",
       "</style>\n",
       "<table border=\"1\" class=\"dataframe\">\n",
       "  <thead>\n",
       "    <tr style=\"text-align: right;\">\n",
       "      <th></th>\n",
       "      <th>conc</th>\n",
       "      <th>rate</th>\n",
       "    </tr>\n",
       "  </thead>\n",
       "  <tbody>\n",
       "    <tr>\n",
       "      <th>count</th>\n",
       "      <td>23.000000</td>\n",
       "      <td>23.000000</td>\n",
       "    </tr>\n",
       "    <tr>\n",
       "      <th>mean</th>\n",
       "      <td>0.312174</td>\n",
       "      <td>126.826087</td>\n",
       "    </tr>\n",
       "    <tr>\n",
       "      <th>std</th>\n",
       "      <td>0.363130</td>\n",
       "      <td>47.513302</td>\n",
       "    </tr>\n",
       "    <tr>\n",
       "      <th>min</th>\n",
       "      <td>0.020000</td>\n",
       "      <td>47.000000</td>\n",
       "    </tr>\n",
       "    <tr>\n",
       "      <th>25%</th>\n",
       "      <td>0.060000</td>\n",
       "      <td>91.500000</td>\n",
       "    </tr>\n",
       "    <tr>\n",
       "      <th>50%</th>\n",
       "      <td>0.110000</td>\n",
       "      <td>124.000000</td>\n",
       "    </tr>\n",
       "    <tr>\n",
       "      <th>75%</th>\n",
       "      <td>0.560000</td>\n",
       "      <td>158.500000</td>\n",
       "    </tr>\n",
       "    <tr>\n",
       "      <th>max</th>\n",
       "      <td>1.100000</td>\n",
       "      <td>207.000000</td>\n",
       "    </tr>\n",
       "  </tbody>\n",
       "</table>\n",
       "</div>"
      ],
      "text/plain": [
       "            conc        rate\n",
       "count  23.000000   23.000000\n",
       "mean    0.312174  126.826087\n",
       "std     0.363130   47.513302\n",
       "min     0.020000   47.000000\n",
       "25%     0.060000   91.500000\n",
       "50%     0.110000  124.000000\n",
       "75%     0.560000  158.500000\n",
       "max     1.100000  207.000000"
      ]
     },
     "execution_count": 4,
     "metadata": {},
     "output_type": "execute_result"
    }
   ],
   "source": [
    "pur.describe()"
   ]
  },
  {
   "cell_type": "code",
   "execution_count": 27,
   "id": "8bb87631",
   "metadata": {},
   "outputs": [],
   "source": [
    "# pur.var()"
   ]
  },
  {
   "cell_type": "code",
   "execution_count": 9,
   "id": "8f4b38d5",
   "metadata": {},
   "outputs": [
    {
     "data": {
      "text/plain": [
       "0.31217391304347825"
      ]
     },
     "execution_count": 9,
     "metadata": {},
     "output_type": "execute_result"
    }
   ],
   "source": [
    "pur['conc'].mean()"
   ]
  },
  {
   "cell_type": "code",
   "execution_count": 10,
   "id": "605c85dc",
   "metadata": {},
   "outputs": [
    {
     "data": {
      "text/plain": [
       "126.82608695652173"
      ]
     },
     "execution_count": 10,
     "metadata": {},
     "output_type": "execute_result"
    }
   ],
   "source": [
    "pur['rate'].mean()"
   ]
  },
  {
   "cell_type": "code",
   "execution_count": 16,
   "id": "a95a258b",
   "metadata": {},
   "outputs": [
    {
     "data": {
      "text/plain": [
       "array(['treated', 'untreated'], dtype=object)"
      ]
     },
     "execution_count": 16,
     "metadata": {},
     "output_type": "execute_result"
    }
   ],
   "source": [
    "pur['state'].unique()"
   ]
  },
  {
   "cell_type": "code",
   "execution_count": 25,
   "id": "47cb7a26",
   "metadata": {},
   "outputs": [],
   "source": [
    "treated = pur[pur['state']=='treated']\n",
    "untreated = pur[pur['state']=='untreated']"
   ]
  },
  {
   "cell_type": "code",
   "execution_count": 26,
   "id": "d8684791",
   "metadata": {},
   "outputs": [
    {
     "data": {
      "text/plain": [
       "BartlettResult(statistic=1.3347300574703427, pvalue=0.2479654757261583)"
      ]
     },
     "execution_count": 26,
     "metadata": {},
     "output_type": "execute_result"
    }
   ],
   "source": [
    "bartlett(treated['rate'],untreated['rate'])"
   ]
  },
  {
   "cell_type": "code",
   "execution_count": null,
   "id": "585cbbac",
   "metadata": {},
   "outputs": [],
   "source": []
  }
 ],
 "metadata": {
  "kernelspec": {
   "display_name": "Python 3 (ipykernel)",
   "language": "python",
   "name": "python3"
  },
  "language_info": {
   "codemirror_mode": {
    "name": "ipython",
    "version": 3
   },
   "file_extension": ".py",
   "mimetype": "text/x-python",
   "name": "python",
   "nbconvert_exporter": "python",
   "pygments_lexer": "ipython3",
   "version": "3.9.13"
  }
 },
 "nbformat": 4,
 "nbformat_minor": 5
}
